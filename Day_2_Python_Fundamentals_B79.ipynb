{
 "cells": [
  {
   "cell_type": "markdown",
   "id": "e730bf02",
   "metadata": {},
   "source": [
    "Introduction to Python programming:"
   ]
  },
  {
   "cell_type": "code",
   "execution_count": null,
   "id": "bbb141dc",
   "metadata": {},
   "outputs": [],
   "source": []
  },
  {
   "cell_type": "code",
   "execution_count": null,
   "id": "4a7a0d56",
   "metadata": {},
   "outputs": [],
   "source": [
    "Understanding the concept of variable in python:"
   ]
  },
  {
   "cell_type": "code",
   "execution_count": 3,
   "id": "774b4e9b",
   "metadata": {},
   "outputs": [],
   "source": [
    "x = 2\n",
    "y = 22"
   ]
  },
  {
   "cell_type": "code",
   "execution_count": null,
   "id": "1632fa7d",
   "metadata": {},
   "outputs": [],
   "source": []
  },
  {
   "cell_type": "code",
   "execution_count": 4,
   "id": "73a95054",
   "metadata": {},
   "outputs": [
    {
     "name": "stdout",
     "output_type": "stream",
     "text": [
      "24\n"
     ]
    }
   ],
   "source": [
    "z = x + y\n",
    "print(z)"
   ]
  },
  {
   "cell_type": "code",
   "execution_count": null,
   "id": "755e6794",
   "metadata": {},
   "outputs": [],
   "source": []
  },
  {
   "cell_type": "code",
   "execution_count": null,
   "id": "f3afaafe",
   "metadata": {},
   "outputs": [],
   "source": [
    "Rules for declaring the variables:"
   ]
  },
  {
   "cell_type": "code",
   "execution_count": 8,
   "id": "4ceb1942",
   "metadata": {},
   "outputs": [
    {
     "ename": "SyntaxError",
     "evalue": "invalid syntax (1872581509.py, line 4)",
     "output_type": "error",
     "traceback": [
      "\u001b[1;36m  Cell \u001b[1;32mIn[8], line 4\u001b[1;36m\u001b[0m\n\u001b[1;33m    first name = 'Good person'\u001b[0m\n\u001b[1;37m          ^\u001b[0m\n\u001b[1;31mSyntaxError\u001b[0m\u001b[1;31m:\u001b[0m invalid syntax\n"
     ]
    }
   ],
   "source": [
    "#1. No namespace or space between the words\n",
    "#example\n",
    "\n",
    "first name = 'Good person'\n",
    "print(first name)"
   ]
  },
  {
   "cell_type": "code",
   "execution_count": 10,
   "id": "939d43a0",
   "metadata": {},
   "outputs": [
    {
     "ename": "SyntaxError",
     "evalue": "invalid decimal literal (2841238598.py, line 4)",
     "output_type": "error",
     "traceback": [
      "\u001b[1;36m  Cell \u001b[1;32mIn[10], line 4\u001b[1;36m\u001b[0m\n\u001b[1;33m    1name = \"Good person\"\u001b[0m\n\u001b[1;37m    ^\u001b[0m\n\u001b[1;31mSyntaxError\u001b[0m\u001b[1;31m:\u001b[0m invalid decimal literal\n"
     ]
    }
   ],
   "source": [
    "#2 A variable should not start with a number\n",
    "#example\n",
    "\n",
    "1name = \"Good person\"\n",
    "print(1name)"
   ]
  },
  {
   "cell_type": "code",
   "execution_count": 11,
   "id": "9319e000",
   "metadata": {},
   "outputs": [
    {
     "ename": "SyntaxError",
     "evalue": "invalid syntax (1936925386.py, line 4)",
     "output_type": "error",
     "traceback": [
      "\u001b[1;36m  Cell \u001b[1;32mIn[11], line 4\u001b[1;36m\u001b[0m\n\u001b[1;33m    name! = \"good person\"\u001b[0m\n\u001b[1;37m        ^\u001b[0m\n\u001b[1;31mSyntaxError\u001b[0m\u001b[1;31m:\u001b[0m invalid syntax\n"
     ]
    }
   ],
   "source": [
    "#3 A variable name should not contain a special character\n",
    "#example\n",
    "\n",
    "name! = \"good person\"\n",
    "print(name!)"
   ]
  },
  {
   "cell_type": "code",
   "execution_count": null,
   "id": "7f1e508a",
   "metadata": {},
   "outputs": [],
   "source": [
    "#Introduction to data types in Python"
   ]
  },
  {
   "cell_type": "code",
   "execution_count": null,
   "id": "b918ac29",
   "metadata": {},
   "outputs": [],
   "source": [
    "1. String ==> str\n",
    "2. Numbers ==> intergers-->int, float (decimals)--> float \n",
    "3. Lists==> list\n",
    "4. Tuples==> tuple\n",
    "5. Dictionaries==> dict"
   ]
  },
  {
   "cell_type": "code",
   "execution_count": null,
   "id": "3d0a6a3e",
   "metadata": {},
   "outputs": [],
   "source": []
  },
  {
   "cell_type": "code",
   "execution_count": null,
   "id": "b6d631b3",
   "metadata": {},
   "outputs": [],
   "source": [
    "#Classification of data types:\n",
    "    \n",
    "1. Mutable==> which can be edited/altered\n",
    "2. Non mutable==> which cannot be edited/altred"
   ]
  },
  {
   "cell_type": "code",
   "execution_count": null,
   "id": "3cf50c0f",
   "metadata": {},
   "outputs": [],
   "source": []
  },
  {
   "cell_type": "code",
   "execution_count": null,
   "id": "9ea4ee61",
   "metadata": {},
   "outputs": [],
   "source": [
    "#Introduction to String datatype:\n",
    "\n",
    "Definition: A string is series of characters declared in quotes.\n",
    "Classificatation: Immutable\n",
    "    \n",
    "How to declare: \n",
    "1. Single quote==> ''    \n",
    "2. Double quote==> \"\"    "
   ]
  },
  {
   "cell_type": "code",
   "execution_count": null,
   "id": "23c4aa2e",
   "metadata": {},
   "outputs": [],
   "source": []
  },
  {
   "cell_type": "code",
   "execution_count": 19,
   "id": "17d5f47f",
   "metadata": {},
   "outputs": [
    {
     "name": "stdout",
     "output_type": "stream",
     "text": [
      "Ganga\n"
     ]
    }
   ],
   "source": [
    "#example\n",
    "\n",
    "name = 'Ganga'\n",
    "print(name)"
   ]
  },
  {
   "cell_type": "code",
   "execution_count": 22,
   "id": "2be27814",
   "metadata": {},
   "outputs": [
    {
     "name": "stdout",
     "output_type": "stream",
     "text": [
      "Kaveri\n"
     ]
    }
   ],
   "source": [
    "#exmaple\n",
    "\n",
    "name2 = \"Kaveri\"\n",
    "print(name)"
   ]
  },
  {
   "cell_type": "code",
   "execution_count": null,
   "id": "08bf9aa2",
   "metadata": {},
   "outputs": [],
   "source": []
  },
  {
   "cell_type": "code",
   "execution_count": null,
   "id": "f0c2d095",
   "metadata": {},
   "outputs": [],
   "source": [
    "#Understanding the string methods:"
   ]
  },
  {
   "cell_type": "code",
   "execution_count": 21,
   "id": "38a85435",
   "metadata": {},
   "outputs": [
    {
     "data": {
      "text/plain": [
       "str"
      ]
     },
     "execution_count": 21,
     "metadata": {},
     "output_type": "execute_result"
    }
   ],
   "source": [
    "type(name)"
   ]
  },
  {
   "cell_type": "code",
   "execution_count": 23,
   "id": "7bbf72b6",
   "metadata": {},
   "outputs": [
    {
     "data": {
      "text/plain": [
       "str"
      ]
     },
     "execution_count": 23,
     "metadata": {},
     "output_type": "execute_result"
    }
   ],
   "source": [
    "type(name2)"
   ]
  },
  {
   "cell_type": "code",
   "execution_count": null,
   "id": "a4916f7d",
   "metadata": {},
   "outputs": [],
   "source": []
  },
  {
   "cell_type": "code",
   "execution_count": 24,
   "id": "6eccd450",
   "metadata": {},
   "outputs": [
    {
     "name": "stdout",
     "output_type": "stream",
     "text": [
      "the universe\n"
     ]
    }
   ],
   "source": [
    "fullname = 'the universe'\n",
    "print(fullname)"
   ]
  },
  {
   "cell_type": "code",
   "execution_count": null,
   "id": "322727bb",
   "metadata": {},
   "outputs": [],
   "source": []
  },
  {
   "cell_type": "code",
   "execution_count": 26,
   "id": "dd24a244",
   "metadata": {},
   "outputs": [
    {
     "name": "stdout",
     "output_type": "stream",
     "text": [
      "The Universe\n"
     ]
    }
   ],
   "source": [
    "print(fullname.title())"
   ]
  },
  {
   "cell_type": "code",
   "execution_count": null,
   "id": "d8b5e259",
   "metadata": {},
   "outputs": [],
   "source": []
  },
  {
   "cell_type": "code",
   "execution_count": 27,
   "id": "1778400c",
   "metadata": {},
   "outputs": [
    {
     "name": "stdout",
     "output_type": "stream",
     "text": [
      "THE UNIVERSE\n"
     ]
    }
   ],
   "source": [
    "print(fullname.upper())"
   ]
  },
  {
   "cell_type": "code",
   "execution_count": null,
   "id": "7ee568d7",
   "metadata": {},
   "outputs": [],
   "source": []
  },
  {
   "cell_type": "code",
   "execution_count": 29,
   "id": "3e0c455d",
   "metadata": {},
   "outputs": [
    {
     "name": "stdout",
     "output_type": "stream",
     "text": [
      "the universe\n"
     ]
    }
   ],
   "source": [
    "print(fullname.lower())"
   ]
  }
 ],
 "metadata": {
  "kernelspec": {
   "display_name": "Python 3 (ipykernel)",
   "language": "python",
   "name": "python3"
  },
  "language_info": {
   "codemirror_mode": {
    "name": "ipython",
    "version": 3
   },
   "file_extension": ".py",
   "mimetype": "text/x-python",
   "name": "python",
   "nbconvert_exporter": "python",
   "pygments_lexer": "ipython3",
   "version": "3.11.3"
  }
 },
 "nbformat": 4,
 "nbformat_minor": 5
}
