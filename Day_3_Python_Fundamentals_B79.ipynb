{
 "cells": [
  {
   "cell_type": "code",
   "execution_count": null,
   "id": "f4faf634",
   "metadata": {},
   "outputs": [],
   "source": [
    "Continuation with String datatypes:"
   ]
  },
  {
   "cell_type": "code",
   "execution_count": null,
   "id": "82bfff5e",
   "metadata": {},
   "outputs": [],
   "source": [
    "#Understanding the concept of f strings:"
   ]
  },
  {
   "cell_type": "code",
   "execution_count": 2,
   "id": "630c12f5",
   "metadata": {},
   "outputs": [],
   "source": [
    "#example\n",
    "\n",
    "firstname = 'New'\n",
    "lastname = 'World'"
   ]
  },
  {
   "cell_type": "code",
   "execution_count": null,
   "id": "f26876d8",
   "metadata": {},
   "outputs": [],
   "source": []
  },
  {
   "cell_type": "code",
   "execution_count": 8,
   "id": "8cd477d8",
   "metadata": {},
   "outputs": [
    {
     "name": "stdout",
     "output_type": "stream",
     "text": [
      "New World\n"
     ]
    }
   ],
   "source": [
    "# if full name needed\n",
    "fullname = f\"{firstname} {lastname}\"\n",
    "print(fullname)"
   ]
  },
  {
   "cell_type": "code",
   "execution_count": null,
   "id": "a5ce2839",
   "metadata": {},
   "outputs": [],
   "source": [
    "# F strings\n",
    "# General Syntax\n",
    "\n",
    "f\"Custom message {place holder 1} {place holder 2}.........{place holder nth}\""
   ]
  },
  {
   "cell_type": "code",
   "execution_count": null,
   "id": "dcf55598",
   "metadata": {},
   "outputs": [],
   "source": []
  },
  {
   "cell_type": "code",
   "execution_count": 10,
   "id": "6b8580c8",
   "metadata": {
    "scrolled": false
   },
   "outputs": [
    {
     "name": "stdout",
     "output_type": "stream",
     "text": [
      "Fun and Happy, New World\n"
     ]
    }
   ],
   "source": [
    "#Custom message\n",
    "custom_message = f\"Fun and Happy, {fullname}\"\n",
    "print(custom_message)"
   ]
  },
  {
   "cell_type": "code",
   "execution_count": null,
   "id": "2f206847",
   "metadata": {},
   "outputs": [],
   "source": []
  },
  {
   "cell_type": "code",
   "execution_count": 11,
   "id": "556c8504",
   "metadata": {},
   "outputs": [
    {
     "name": "stdout",
     "output_type": "stream",
     "text": [
      "Fun and Happy, NEW WORLD\n"
     ]
    }
   ],
   "source": [
    "#one more example\n",
    "custom_message = f\"Fun and Happy, {fullname.upper()}\"\n",
    "print(custom_message)"
   ]
  },
  {
   "cell_type": "code",
   "execution_count": null,
   "id": "c27147e5",
   "metadata": {},
   "outputs": [],
   "source": []
  },
  {
   "cell_type": "code",
   "execution_count": null,
   "id": "4d49f80d",
   "metadata": {},
   "outputs": [],
   "source": [
    "Adding whitespace/new line in String:"
   ]
  },
  {
   "cell_type": "code",
   "execution_count": null,
   "id": "e12c9191",
   "metadata": {},
   "outputs": [],
   "source": [
    "\\n==> New line delimiter"
   ]
  },
  {
   "cell_type": "code",
   "execution_count": 18,
   "id": "9b97d9d6",
   "metadata": {},
   "outputs": [
    {
     "name": "stdout",
     "output_type": "stream",
     "text": [
      "fav_prog_language : PythonJavaCC++C#RubyRustJavaScript\n"
     ]
    }
   ],
   "source": [
    "print('fav_prog_language : PythonJavaCC++C#RubyRustJavaScript')"
   ]
  },
  {
   "cell_type": "code",
   "execution_count": null,
   "id": "eab916e2",
   "metadata": {},
   "outputs": [],
   "source": []
  },
  {
   "cell_type": "code",
   "execution_count": 19,
   "id": "234fb1ae",
   "metadata": {},
   "outputs": [
    {
     "name": "stdout",
     "output_type": "stream",
     "text": [
      "fav_prog_language : \n",
      "Python\n",
      "Java\n",
      "C\n",
      "C++\n",
      "C#\n",
      "Ruby\n",
      "Rust\n",
      "JavaScript\n"
     ]
    }
   ],
   "source": [
    "print('fav_prog_language : \\nPython\\nJava\\nC\\nC++\\nC#\\nRuby\\nRust\\nJavaScript')"
   ]
  },
  {
   "cell_type": "code",
   "execution_count": null,
   "id": "16511ed7",
   "metadata": {},
   "outputs": [],
   "source": []
  },
  {
   "cell_type": "code",
   "execution_count": null,
   "id": "827f19f5",
   "metadata": {},
   "outputs": [],
   "source": [
    "\\t==> tab delimiter"
   ]
  },
  {
   "cell_type": "code",
   "execution_count": 20,
   "id": "7163fe08",
   "metadata": {},
   "outputs": [
    {
     "name": "stdout",
     "output_type": "stream",
     "text": [
      "fav_prog_language : \n",
      "\tPython\n",
      "\tJava\n",
      "\tC\n",
      "\tC++\n",
      "\tC#\n",
      "\tRuby\n",
      "\tRust\n",
      "\tJavaScript\n"
     ]
    }
   ],
   "source": [
    "print('fav_prog_language : \\n\\tPython\\n\\tJava\\n\\tC\\n\\tC++\\n\\tC#\\n\\tRuby\\n\\tRust\\n\\tJavaScript')"
   ]
  },
  {
   "cell_type": "code",
   "execution_count": null,
   "id": "3b382812",
   "metadata": {},
   "outputs": [],
   "source": []
  },
  {
   "cell_type": "code",
   "execution_count": null,
   "id": "4e9f88fb",
   "metadata": {},
   "outputs": [],
   "source": [
    "Removing whitespace/space from Strings:"
   ]
  },
  {
   "cell_type": "code",
   "execution_count": null,
   "id": "84ad501f",
   "metadata": {},
   "outputs": [],
   "source": []
  },
  {
   "cell_type": "code",
   "execution_count": 22,
   "id": "ef3f5c90",
   "metadata": {},
   "outputs": [
    {
     "name": "stdout",
     "output_type": "stream",
     "text": [
      "    python\n"
     ]
    }
   ],
   "source": [
    "#removing space from left\n",
    "language1 = '    python'\n",
    "print(language1)"
   ]
  },
  {
   "cell_type": "code",
   "execution_count": null,
   "id": "4041ebbd",
   "metadata": {},
   "outputs": [],
   "source": []
  },
  {
   "cell_type": "code",
   "execution_count": 24,
   "id": "bbfff21e",
   "metadata": {},
   "outputs": [
    {
     "data": {
      "text/plain": [
       "'python'"
      ]
     },
     "execution_count": 24,
     "metadata": {},
     "output_type": "execute_result"
    }
   ],
   "source": [
    "language1.lstrip()"
   ]
  },
  {
   "cell_type": "code",
   "execution_count": null,
   "id": "a7cb8937",
   "metadata": {},
   "outputs": [],
   "source": []
  },
  {
   "cell_type": "code",
   "execution_count": 25,
   "id": "3154b087",
   "metadata": {},
   "outputs": [],
   "source": [
    "#removing space from right\n",
    "language2 = 'python    '"
   ]
  },
  {
   "cell_type": "code",
   "execution_count": null,
   "id": "f33d871b",
   "metadata": {},
   "outputs": [],
   "source": []
  },
  {
   "cell_type": "code",
   "execution_count": 26,
   "id": "1ba4a22d",
   "metadata": {},
   "outputs": [
    {
     "data": {
      "text/plain": [
       "'python'"
      ]
     },
     "execution_count": 26,
     "metadata": {},
     "output_type": "execute_result"
    }
   ],
   "source": [
    "language2.rstrip()"
   ]
  },
  {
   "cell_type": "code",
   "execution_count": null,
   "id": "f5557594",
   "metadata": {},
   "outputs": [],
   "source": []
  },
  {
   "cell_type": "code",
   "execution_count": 27,
   "id": "7401c602",
   "metadata": {},
   "outputs": [],
   "source": [
    "#removing space from both left and right\n",
    "language3 = '    python    '"
   ]
  },
  {
   "cell_type": "code",
   "execution_count": null,
   "id": "601bad02",
   "metadata": {},
   "outputs": [],
   "source": []
  },
  {
   "cell_type": "code",
   "execution_count": 29,
   "id": "4bea9b38",
   "metadata": {},
   "outputs": [
    {
     "data": {
      "text/plain": [
       "'python'"
      ]
     },
     "execution_count": 29,
     "metadata": {},
     "output_type": "execute_result"
    }
   ],
   "source": [
    "language3.strip()"
   ]
  }
 ],
 "metadata": {
  "kernelspec": {
   "display_name": "Python 3 (ipykernel)",
   "language": "python",
   "name": "python3"
  },
  "language_info": {
   "codemirror_mode": {
    "name": "ipython",
    "version": 3
   },
   "file_extension": ".py",
   "mimetype": "text/x-python",
   "name": "python",
   "nbconvert_exporter": "python",
   "pygments_lexer": "ipython3",
   "version": "3.11.3"
  }
 },
 "nbformat": 4,
 "nbformat_minor": 5
}
