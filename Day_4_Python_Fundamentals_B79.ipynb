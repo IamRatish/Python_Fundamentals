{
 "cells": [
  {
   "cell_type": "code",
   "execution_count": null,
   "id": "a3787715",
   "metadata": {},
   "outputs": [],
   "source": [
    "Introduction to List datatype:"
   ]
  },
  {
   "cell_type": "code",
   "execution_count": 4,
   "id": "e262a28f",
   "metadata": {},
   "outputs": [
    {
     "name": "stdout",
     "output_type": "stream",
     "text": [
      "['one', 'two', 'three', 'four', 'five', 'six', 'seven', 'eight', 'nine', 'ten']\n"
     ]
    }
   ],
   "source": [
    "#Definition : Collection of items in a particular order\n",
    "#Classification : Mutable\n",
    "#How to define==> []\n",
    "\n",
    "numbers = ['one','two','three','four','five','six','seven','eight','nine','ten']\n",
    "print(numbers)"
   ]
  },
  {
   "cell_type": "code",
   "execution_count": null,
   "id": "2ded2e57",
   "metadata": {},
   "outputs": [],
   "source": []
  },
  {
   "cell_type": "code",
   "execution_count": 5,
   "id": "d6eb34eb",
   "metadata": {},
   "outputs": [
    {
     "data": {
      "text/plain": [
       "list"
      ]
     },
     "execution_count": 5,
     "metadata": {},
     "output_type": "execute_result"
    }
   ],
   "source": [
    "type(numbers)"
   ]
  },
  {
   "cell_type": "code",
   "execution_count": null,
   "id": "e9c27917",
   "metadata": {},
   "outputs": [],
   "source": []
  },
  {
   "cell_type": "code",
   "execution_count": null,
   "id": "7cdfd94f",
   "metadata": {},
   "outputs": [],
   "source": [
    "#Introduction to indexing : 0,1,2,3,4,5,6,7,8...........\n",
    "#display number four in the output"
   ]
  },
  {
   "cell_type": "code",
   "execution_count": 13,
   "id": "469f7b08",
   "metadata": {},
   "outputs": [
    {
     "name": "stdout",
     "output_type": "stream",
     "text": [
      "four\n"
     ]
    }
   ],
   "source": [
    "print(numbers[3])"
   ]
  },
  {
   "cell_type": "code",
   "execution_count": 15,
   "id": "5e7598f5",
   "metadata": {},
   "outputs": [
    {
     "name": "stdout",
     "output_type": "stream",
     "text": [
      "Four\n"
     ]
    }
   ],
   "source": [
    "print(numbers[3].title())"
   ]
  },
  {
   "cell_type": "code",
   "execution_count": null,
   "id": "9706ce2e",
   "metadata": {},
   "outputs": [],
   "source": []
  },
  {
   "cell_type": "code",
   "execution_count": 16,
   "id": "889a2e27",
   "metadata": {},
   "outputs": [
    {
     "name": "stdout",
     "output_type": "stream",
     "text": [
      "seven\n"
     ]
    }
   ],
   "source": [
    "#No.7 on the output\n",
    "\n",
    "print(numbers[6])"
   ]
  },
  {
   "cell_type": "code",
   "execution_count": null,
   "id": "bd127038",
   "metadata": {},
   "outputs": [],
   "source": []
  },
  {
   "cell_type": "code",
   "execution_count": null,
   "id": "4e77eb9e",
   "metadata": {},
   "outputs": [],
   "source": [
    "# 1. How to Add new elements in the list"
   ]
  },
  {
   "cell_type": "code",
   "execution_count": 18,
   "id": "978ecc79",
   "metadata": {},
   "outputs": [],
   "source": [
    "#Wanted to add Eleven in the list\n",
    "\n",
    "numbers.append('eleven')"
   ]
  },
  {
   "cell_type": "code",
   "execution_count": 19,
   "id": "287f1062",
   "metadata": {},
   "outputs": [
    {
     "name": "stdout",
     "output_type": "stream",
     "text": [
      "['one', 'two', 'three', 'four', 'five', 'six', 'seven', 'eight', 'nine', 'ten', 'eleven']\n"
     ]
    }
   ],
   "source": [
    "print(numbers)"
   ]
  },
  {
   "cell_type": "code",
   "execution_count": null,
   "id": "921ff0f1",
   "metadata": {},
   "outputs": [],
   "source": []
  },
  {
   "cell_type": "code",
   "execution_count": 21,
   "id": "f1fd00c8",
   "metadata": {},
   "outputs": [],
   "source": [
    "#Another example add twele in the list\n",
    "\n",
    "numbers.append('twele')"
   ]
  },
  {
   "cell_type": "code",
   "execution_count": 22,
   "id": "b543cee1",
   "metadata": {},
   "outputs": [
    {
     "name": "stdout",
     "output_type": "stream",
     "text": [
      "['one', 'two', 'three', 'four', 'five', 'six', 'seven', 'eight', 'nine', 'ten', 'eleven', 'twele']\n"
     ]
    }
   ],
   "source": [
    "print(numbers)"
   ]
  },
  {
   "cell_type": "code",
   "execution_count": null,
   "id": "01a4016e",
   "metadata": {},
   "outputs": [],
   "source": []
  },
  {
   "cell_type": "code",
   "execution_count": 25,
   "id": "cf47c69e",
   "metadata": {},
   "outputs": [],
   "source": [
    "#Add thirteen in the 3rd position\n",
    "\n",
    "numbers.insert(2,'thirteen')"
   ]
  },
  {
   "cell_type": "code",
   "execution_count": 26,
   "id": "04e8918a",
   "metadata": {},
   "outputs": [
    {
     "name": "stdout",
     "output_type": "stream",
     "text": [
      "['one', 'two', 'thirteen', 'three', 'four', 'five', 'six', 'seven', 'eight', 'nine', 'ten', 'eleven', 'twele']\n"
     ]
    }
   ],
   "source": [
    "print(numbers)"
   ]
  },
  {
   "cell_type": "code",
   "execution_count": 27,
   "id": "41e13ea2",
   "metadata": {},
   "outputs": [
    {
     "name": "stdout",
     "output_type": "stream",
     "text": [
      "thirteen\n"
     ]
    }
   ],
   "source": [
    "print(numbers[2])"
   ]
  },
  {
   "cell_type": "code",
   "execution_count": 28,
   "id": "33fc31fd",
   "metadata": {},
   "outputs": [
    {
     "name": "stdout",
     "output_type": "stream",
     "text": [
      "THIRTEEN\n"
     ]
    }
   ],
   "source": [
    "print(numbers[2].upper())"
   ]
  },
  {
   "cell_type": "code",
   "execution_count": null,
   "id": "ccce6196",
   "metadata": {},
   "outputs": [],
   "source": []
  },
  {
   "cell_type": "code",
   "execution_count": null,
   "id": "e09adba4",
   "metadata": {},
   "outputs": [],
   "source": [
    "#2. How to edit/alter elements in the list"
   ]
  },
  {
   "cell_type": "code",
   "execution_count": null,
   "id": "c73a7435",
   "metadata": {},
   "outputs": [],
   "source": []
  },
  {
   "cell_type": "code",
   "execution_count": 29,
   "id": "6c5e5951",
   "metadata": {},
   "outputs": [
    {
     "name": "stdout",
     "output_type": "stream",
     "text": [
      "['one', 'two', 'thirteen', 'three', 'four', 'five', 'six', 'seven', 'eight', 'nine', 'ten', 'eleven', 'twele']\n"
     ]
    }
   ],
   "source": [
    "print(numbers)"
   ]
  },
  {
   "cell_type": "code",
   "execution_count": null,
   "id": "3b29975c",
   "metadata": {},
   "outputs": [],
   "source": []
  },
  {
   "cell_type": "code",
   "execution_count": null,
   "id": "4f76867d",
   "metadata": {},
   "outputs": [],
   "source": [
    "#Req: need to change Thirteen to Fourteen"
   ]
  },
  {
   "cell_type": "code",
   "execution_count": 34,
   "id": "adb892bc",
   "metadata": {},
   "outputs": [],
   "source": [
    "numbers[2] = 'Fourteen'"
   ]
  },
  {
   "cell_type": "code",
   "execution_count": null,
   "id": "dafe7d9e",
   "metadata": {},
   "outputs": [],
   "source": []
  },
  {
   "cell_type": "code",
   "execution_count": 48,
   "id": "83ef8461",
   "metadata": {},
   "outputs": [
    {
     "name": "stdout",
     "output_type": "stream",
     "text": [
      "['one', 'two', 'Fourteen', 'four', 'five', 'six', 'seven', 'eight', 'nine', 'ten', 'eleven', 'twele']\n"
     ]
    }
   ],
   "source": [
    "print(numbers)"
   ]
  },
  {
   "cell_type": "code",
   "execution_count": null,
   "id": "d54c6f55",
   "metadata": {},
   "outputs": [],
   "source": []
  },
  {
   "cell_type": "code",
   "execution_count": 38,
   "id": "9d097680",
   "metadata": {},
   "outputs": [],
   "source": [
    "#3. How to delete elements in the list\n",
    "# 2 types of deletion :  1. Temporary (Pop) 2. Permanent\n",
    "# POP : It will be creating a carbon copy of the deleted item and storing the value that has been assigned to it.\n",
    "#Note: By default it will delete last element from the list"
   ]
  },
  {
   "cell_type": "code",
   "execution_count": 49,
   "id": "1c0aed26",
   "metadata": {},
   "outputs": [],
   "source": [
    "#Req: need to delete no. three from the list\n",
    "\n",
    "delete1 = numbers.pop(3)"
   ]
  },
  {
   "cell_type": "code",
   "execution_count": 50,
   "id": "4d9b47ce",
   "metadata": {},
   "outputs": [
    {
     "name": "stdout",
     "output_type": "stream",
     "text": [
      "['one', 'two', 'Fourteen', 'five', 'six', 'seven', 'eight', 'nine', 'ten', 'eleven', 'twele']\n"
     ]
    }
   ],
   "source": [
    "print(numbers)"
   ]
  },
  {
   "cell_type": "code",
   "execution_count": 51,
   "id": "c3ef61b0",
   "metadata": {},
   "outputs": [
    {
     "name": "stdout",
     "output_type": "stream",
     "text": [
      "four\n"
     ]
    }
   ],
   "source": [
    "print(delete1)"
   ]
  },
  {
   "cell_type": "code",
   "execution_count": null,
   "id": "a6e07a0f",
   "metadata": {},
   "outputs": [],
   "source": []
  },
  {
   "cell_type": "code",
   "execution_count": null,
   "id": "bf0d8bdb",
   "metadata": {},
   "outputs": [],
   "source": [
    "# Req: need to delete Fourteen from the list - Permanant deletion"
   ]
  },
  {
   "cell_type": "code",
   "execution_count": 52,
   "id": "c829129a",
   "metadata": {},
   "outputs": [],
   "source": [
    "del numbers[2]"
   ]
  },
  {
   "cell_type": "code",
   "execution_count": 53,
   "id": "66e5cec1",
   "metadata": {},
   "outputs": [
    {
     "name": "stdout",
     "output_type": "stream",
     "text": [
      "['one', 'two', 'five', 'six', 'seven', 'eight', 'nine', 'ten', 'eleven', 'twele']\n"
     ]
    }
   ],
   "source": [
    "print(numbers)"
   ]
  },
  {
   "cell_type": "code",
   "execution_count": null,
   "id": "3f930b7a",
   "metadata": {},
   "outputs": [],
   "source": []
  },
  {
   "cell_type": "code",
   "execution_count": 55,
   "id": "7f4deba5",
   "metadata": {},
   "outputs": [],
   "source": [
    "#Interview questions:\n",
    "#1. Explain the difference between append and insert in list.\n",
    "#2. Explain the difference between pop and delete methods in a list."
   ]
  }
 ],
 "metadata": {
  "kernelspec": {
   "display_name": "Python 3 (ipykernel)",
   "language": "python",
   "name": "python3"
  },
  "language_info": {
   "codemirror_mode": {
    "name": "ipython",
    "version": 3
   },
   "file_extension": ".py",
   "mimetype": "text/x-python",
   "name": "python",
   "nbconvert_exporter": "python",
   "pygments_lexer": "ipython3",
   "version": "3.11.3"
  }
 },
 "nbformat": 4,
 "nbformat_minor": 5
}
